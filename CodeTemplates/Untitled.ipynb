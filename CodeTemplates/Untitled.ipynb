{
 "cells": [
  {
   "cell_type": "code",
   "execution_count": 1,
   "id": "49fecf5c",
   "metadata": {},
   "outputs": [],
   "source": [
    "data = {\n",
    "    1: ['A', 'C', 'E'],\n",
    "    2: ['B', 'D', 'F']\n",
    "}"
   ]
  },
  {
   "cell_type": "code",
   "execution_count": 12,
   "id": "71c5242a",
   "metadata": {},
   "outputs": [
    {
     "name": "stdout",
     "output_type": "stream",
     "text": [
      "A\n",
      "C\n",
      "E\n",
      "B\n",
      "D\n",
      "F\n"
     ]
    }
   ],
   "source": [
    "for x in data: \n",
    "    for y in range(3): \n",
    "        print (data[x][y])"
   ]
  },
  {
   "cell_type": "code",
   "execution_count": 14,
   "id": "637797de",
   "metadata": {},
   "outputs": [],
   "source": [
    "#COLUMN ORIENTED DATASET\n",
    "q1 = {\n",
    "    'A': [1,3,5],\n",
    "    'B': [2,4,6]\n",
    "}"
   ]
  },
  {
   "cell_type": "code",
   "execution_count": 15,
   "id": "83ce2aec",
   "metadata": {},
   "outputs": [
    {
     "name": "stdout",
     "output_type": "stream",
     "text": [
      "0.5\n",
      "0.25\n",
      "0.125\n",
      "0\n",
      "0\n",
      "0\n"
     ]
    }
   ],
   "source": [
    "#PROBLEM \n",
    "q2 = {\n",
    "    'X': [0.5, 0.25, 0.125],\n",
    "    'Y': [0, 0, 0]\n",
    "}\n",
    "\n",
    "for thing in q2: \n",
    "    for stuff in range(3): \n",
    "        print (q2[thing][stuff])"
   ]
  },
  {
   "cell_type": "code",
   "execution_count": null,
   "id": "d3507897",
   "metadata": {},
   "outputs": [],
   "source": []
  }
 ],
 "metadata": {
  "kernelspec": {
   "display_name": "Python 3 (ipykernel)",
   "language": "python",
   "name": "python3"
  },
  "language_info": {
   "codemirror_mode": {
    "name": "ipython",
    "version": 3
   },
   "file_extension": ".py",
   "mimetype": "text/x-python",
   "name": "python",
   "nbconvert_exporter": "python",
   "pygments_lexer": "ipython3",
   "version": "3.9.13"
  }
 },
 "nbformat": 4,
 "nbformat_minor": 5
}
