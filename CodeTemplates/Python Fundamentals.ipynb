{
 "cells": [
  {
   "cell_type": "code",
   "execution_count": 84,
   "metadata": {
    "id": "bIBt_FTuvB7O"
   },
   "outputs": [],
   "source": [
    "pirates = {\n",
    "    \"Pirate\":[\"Blackbeard\", \"Anne Bonny\", \"Calico Jack\", \"Cheung Po Tsai\", \"Grace O'Malley\", \"Mary Read\", \"Sayyida al Hurra\", \"Ching Shih\", \"Sir Francis Drake\", \"Jean Lafittte\"],\n",
    "    \"Sex\":[\"M\", \"F\", \"M\", \"M\", \"F\", \"F\", \"F\", \"F\", \"M\", \"M\"],\n",
    "    \"Age at Death\":[40, 24, 37, 39, 73, 36, 75, 69, 56, 46],\n",
    "    \"Height\":[6.4, 5.6, 5.6, 5.3, 5.0, 5.1, 0, 5.3, 5.5, 6.2],\n",
    "    \"Skull and Crossbones\":[False, True, True, False, False, True, False, False, False, False]\n",
    "}"
   ]
  },
  {
   "cell_type": "code",
   "execution_count": 85,
   "metadata": {},
   "outputs": [
    {
     "name": "stdout",
     "output_type": "stream",
     "text": [
      "Blackbeard\n",
      "M\n",
      "40\n",
      "6.4\n",
      "False\n"
     ]
    }
   ],
   "source": [
    "#CHALLANGE 1\n",
    "for i in pirates: \n",
    "    print(pirates[i][0])"
   ]
  },
  {
   "cell_type": "code",
   "execution_count": 86,
   "metadata": {},
   "outputs": [
    {
     "name": "stdout",
     "output_type": "stream",
     "text": [
      "[False, False, False, False, True, False, False, True, True, False]\n"
     ]
    }
   ],
   "source": [
    "#CHALLANGE 2\n",
    "print(pirates[\"Skull and Crossbones\"][::-1])\n",
    "#[::-1]\n",
    "    #remember that the first colon is the starting index, middle colon is the ending index, and the last value is the step \n",
    "    #in this case you start from the beginning, to the end, moving by one BACKWARDS "
   ]
  },
  {
   "cell_type": "code",
   "execution_count": 87,
   "metadata": {},
   "outputs": [
    {
     "name": "stdout",
     "output_type": "stream",
     "text": [
      "Blackbeard 40 False\n",
      "Anne Bonny 24 True\n",
      "Calico Jack 37 True\n",
      "Cheung Po Tsai 39 False\n",
      "Grace O'Malley 73 False\n",
      "Mary Read 36 True\n",
      "Sayyida al Hurra 75 False\n",
      "Ching Shih 69 False\n",
      "Sir Francis Drake 56 False\n",
      "Jean Lafittte 46 False\n"
     ]
    }
   ],
   "source": [
    "#CHALLANGE 3\n",
    "for x in range (0,10): \n",
    "    print(pirates['Pirate'][x], pirates['Age at Death'][x], pirates[\"Skull and Crossbones\"][x])"
   ]
  },
  {
   "cell_type": "code",
   "execution_count": 88,
   "metadata": {},
   "outputs": [
    {
     "name": "stdout",
     "output_type": "stream",
     "text": [
      "3\n"
     ]
    }
   ],
   "source": [
    "#FLAGS \n",
    "flags = 0 \n",
    "for x in pirates[\"Skull and Crossbones\"]: \n",
    "    if x == True: \n",
    "        flags += 1\n",
    "        \n",
    "print(flags)"
   ]
  },
  {
   "cell_type": "code",
   "execution_count": 89,
   "metadata": {},
   "outputs": [],
   "source": [
    "#Male/Female life average \n",
    "mtotal_age = 0\n",
    "ftotal_age = 0\n",
    "m_count = 0\n",
    "f_count = 0\n",
    "\n",
    "for x in range(0,len(pirates['Age at Death'])): \n",
    "    if x \n"
   ]
  },
  {
   "cell_type": "code",
   "execution_count": 93,
   "metadata": {},
   "outputs": [
    {
     "name": "stdout",
     "output_type": "stream",
     "text": [
      "20.0 %\n"
     ]
    }
   ],
   "source": [
    "#Height 6ft or taller \n",
    "count = 0 \n",
    "for x in pirates[\"Height\"]:\n",
    "    if x >= 6: \n",
    "        count +=1\n",
    "percent = (2/10)*100\n",
    "print(percent,\"%\")"
   ]
  },
  {
   "cell_type": "code",
   "execution_count": 94,
   "metadata": {},
   "outputs": [
    {
     "name": "stdout",
     "output_type": "stream",
     "text": [
      "10\n"
     ]
    }
   ],
   "source": [
    "print(len(pirates[\"Age at Death\"]))"
   ]
  },
  {
   "cell_type": "code",
   "execution_count": null,
   "metadata": {},
   "outputs": [],
   "source": []
  }
 ],
 "metadata": {
  "colab": {
   "provenance": []
  },
  "kernelspec": {
   "display_name": "Python 3 (ipykernel)",
   "language": "python",
   "name": "python3"
  },
  "language_info": {
   "codemirror_mode": {
    "name": "ipython",
    "version": 3
   },
   "file_extension": ".py",
   "mimetype": "text/x-python",
   "name": "python",
   "nbconvert_exporter": "python",
   "pygments_lexer": "ipython3",
   "version": "3.9.13"
  }
 },
 "nbformat": 4,
 "nbformat_minor": 1
}
