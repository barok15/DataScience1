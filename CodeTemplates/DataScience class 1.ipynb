{
 "cells": [
  {
   "cell_type": "code",
   "execution_count": 40,
   "id": "18de7a8a",
   "metadata": {},
   "outputs": [
    {
     "name": "stdout",
     "output_type": "stream",
     "text": [
      "HI\n"
     ]
    }
   ],
   "source": [
    "print(\"HI\")"
   ]
  },
  {
   "cell_type": "code",
   "execution_count": 41,
   "id": "2aea2b4b",
   "metadata": {},
   "outputs": [],
   "source": [
    "# Creating a 2D array\n",
    "matrix = [\n",
    "    [1, 2, 3],\n",
    "    [4, 5, 6],\n",
    "    [7, 8, 9]\n",
    "]\n"
   ]
  },
  {
   "cell_type": "code",
   "execution_count": 42,
   "id": "866892ef",
   "metadata": {},
   "outputs": [
    {
     "name": "stdout",
     "output_type": "stream",
     "text": [
      "[[1, 2, 3], [4, 5, 6], [7, 8, 9]]\n"
     ]
    }
   ],
   "source": [
    "print(matrix)"
   ]
  },
  {
   "cell_type": "code",
   "execution_count": 43,
   "id": "e266cf64",
   "metadata": {},
   "outputs": [],
   "source": [
    "challange_2 = [\n",
    "    \n",
    "]"
   ]
  },
  {
   "cell_type": "code",
   "execution_count": 44,
   "id": "48c3687f",
   "metadata": {},
   "outputs": [],
   "source": [
    "new_row = [\"BlackBeard\",'M',40,6.4,False]\n",
    "new_row2 = ['Anne Bonny','F',24,5.6,True]\n",
    "new_row3 = ['Calico Jack','M',37,5.6,True]\n",
    "new_row4 = [\"Cheung Po Tsai\",\"M\",39,5.3,False]\n",
    "new_row5 = [\"Grace O'Malley\",\"F\",73,5.0,False]\n",
    "new_row6 = [\"Mary Read\",\"F\",36,5.1,True]\n",
    "new_row7 = [\"Sayyida al Hurra\",\"F\",75,\"N/A\",False]\n",
    "new_row8 = [\"Ching Shih\",\"F\",69,5.3,False]\n",
    "new_row9 = [\"Sir Francis Drake\",\"M\",56,5.5,False]\n",
    "new_row10 = [\"Jean Lafitte\",\"M\",46,6.2,False]"
   ]
  },
  {
   "cell_type": "code",
   "execution_count": 45,
   "id": "c8878af8",
   "metadata": {},
   "outputs": [],
   "source": [
    "challange_2.append(new_row)\n",
    "challange_2.append(new_row2)\n",
    "challange_2.append(new_row3)\n",
    "challange_2.append(new_row4)\n",
    "challange_2.append(new_row5)\n",
    "challange_2.append(new_row6)\n",
    "challange_2.append(new_row7)\n",
    "challange_2.append(new_row8)\n",
    "challange_2.append(new_row9)\n",
    "challange_2.append(new_row10)"
   ]
  },
  {
   "cell_type": "code",
   "execution_count": 46,
   "id": "1e9c95de",
   "metadata": {},
   "outputs": [
    {
     "name": "stdout",
     "output_type": "stream",
     "text": [
      "['BlackBeard', 'M', 40, 6.4, False]\n",
      "['Anne Bonny', 'F', 24, 5.6, True]\n",
      "['Calico Jack', 'M', 37, 5.6, True]\n",
      "['Cheung Po Tsai', 'M', 39, 5.3, False]\n",
      "[\"Grace O'Malley\", 'F', 73, 5.0, False]\n",
      "['Mary Read', 'F', 36, 5.1, True]\n",
      "['Sayyida al Hurra', 'F', 75, 'N/A', False]\n",
      "['Ching Shih', 'F', 69, 5.3, False]\n",
      "['Sir Francis Drake', 'M', 56, 5.5, False]\n",
      "['Jean Lafitte', 'M', 46, 6.2, False]\n"
     ]
    }
   ],
   "source": [
    "for row in challange_2: \n",
    "    print(row)"
   ]
  },
  {
   "cell_type": "code",
   "execution_count": 47,
   "id": "88a42847",
   "metadata": {},
   "outputs": [],
   "source": [
    "#DICTIONARY \n",
    "\n",
    "pirates = {\n",
    "    \"Pirate\": [\"Blackbeard\", \"Anne Bonny\", \"Calico Jack\"],\n",
    "    \"Sex\": [\"M\", \"F\", \"M\"],\n",
    "    \"Age at death\": [40,24,37]\n",
    "}"
   ]
  },
  {
   "cell_type": "code",
   "execution_count": 49,
   "id": "e76699fe",
   "metadata": {},
   "outputs": [
    {
     "data": {
      "text/plain": [
       "{'Pirate': ['Blackbeard', 'Anne Bonny', 'Calico Jack'],\n",
       " 'Sex': ['M', 'F', 'M'],\n",
       " 'Age at death': [40, 24, 37]}"
      ]
     },
     "execution_count": 49,
     "metadata": {},
     "output_type": "execute_result"
    }
   ],
   "source": [
    "pirates"
   ]
  },
  {
   "cell_type": "code",
   "execution_count": 55,
   "id": "79d6ac18",
   "metadata": {},
   "outputs": [
    {
     "data": {
      "text/plain": [
       "['BlackBeard', 'M', 40, 6.4, False]"
      ]
     },
     "execution_count": 55,
     "metadata": {},
     "output_type": "execute_result"
    }
   ],
   "source": [
    "#CHALLANGE 3 \n",
    "\n",
    "challange_2[0]"
   ]
  },
  {
   "cell_type": "code",
   "execution_count": 78,
   "id": "c6c1ec89",
   "metadata": {},
   "outputs": [
    {
     "name": "stdout",
     "output_type": "stream",
     "text": [
      "False True True False False True False False False False "
     ]
    }
   ],
   "source": [
    "for i in range(0,len(challange_2)):\n",
    "    last_column_element = challange_2[i][-1]\n",
    "    print(last_column_element, end=' ')"
   ]
  },
  {
   "cell_type": "code",
   "execution_count": 75,
   "id": "6b649c73",
   "metadata": {},
   "outputs": [
    {
     "name": "stdout",
     "output_type": "stream",
     "text": [
      "BlackBeard 40 False \n",
      "Anne Bonny 24 True \n",
      "Calico Jack 37 True \n",
      "Cheung Po Tsai 39 False \n",
      "Grace O'Malley 73 False \n",
      "Mary Read 36 True \n",
      "Sayyida al Hurra 75 False \n",
      "Ching Shih 69 False \n",
      "Sir Francis Drake 56 False \n",
      "Jean Lafitte 46 False \n"
     ]
    }
   ],
   "source": [
    "for row in challange_2:\n",
    "    for i in range(0, len(row), 2):\n",
    "        print(row[i], end=' ')\n",
    "    print()  "
   ]
  },
  {
   "cell_type": "code",
   "execution_count": null,
   "id": "c6eba781",
   "metadata": {},
   "outputs": [],
   "source": []
  }
 ],
 "metadata": {
  "kernelspec": {
   "display_name": "Python 3 (ipykernel)",
   "language": "python",
   "name": "python3"
  },
  "language_info": {
   "codemirror_mode": {
    "name": "ipython",
    "version": 3
   },
   "file_extension": ".py",
   "mimetype": "text/x-python",
   "name": "python",
   "nbconvert_exporter": "python",
   "pygments_lexer": "ipython3",
   "version": "3.9.13"
  }
 },
 "nbformat": 4,
 "nbformat_minor": 5
}
