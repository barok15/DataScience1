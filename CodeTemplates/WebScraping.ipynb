{
 "cells": [
  {
   "cell_type": "code",
   "execution_count": 2,
   "id": "66eed838",
   "metadata": {},
   "outputs": [],
   "source": [
    "import requests\n",
    "from bs4 import BeautifulSoup\n",
    "\n",
    "url = \"https://en.wikipedia.org/wiki/Rockingham_(album)\"\n",
    "\n",
    "response = requests.get(url)"
   ]
  },
  {
   "cell_type": "code",
   "execution_count": 3,
   "id": "e4ddc6e9",
   "metadata": {},
   "outputs": [
    {
     "data": {
      "text/plain": [
       "<Response [200]>"
      ]
     },
     "execution_count": 3,
     "metadata": {},
     "output_type": "execute_result"
    }
   ],
   "source": [
    "response"
   ]
  },
  {
   "cell_type": "code",
   "execution_count": 4,
   "id": "1cc9cffc",
   "metadata": {},
   "outputs": [],
   "source": [
    "soup = BeautifulSoup(response.text, \"html.parser\")\n",
    "first_tag = soup.find()"
   ]
  },
  {
   "cell_type": "code",
   "execution_count": 5,
   "id": "38be3f47",
   "metadata": {},
   "outputs": [
    {
     "data": {
      "text/plain": [
       "'html'"
      ]
     },
     "execution_count": 5,
     "metadata": {},
     "output_type": "execute_result"
    }
   ],
   "source": [
    "first_tag.name"
   ]
  },
  {
   "cell_type": "code",
   "execution_count": 6,
   "id": "a7a97ac7",
   "metadata": {},
   "outputs": [
    {
     "data": {
      "text/plain": [
       "130"
      ]
     },
     "execution_count": 6,
     "metadata": {},
     "output_type": "execute_result"
    }
   ],
   "source": [
    "hyperlinks = soup.find_all(\"a\")\n",
    "num_hyperlinks = len(hyperlinks)\n",
    "num_hyperlinks"
   ]
  },
  {
   "cell_type": "code",
   "execution_count": 7,
   "id": "2296e16e",
   "metadata": {},
   "outputs": [
    {
     "data": {
      "text/plain": [
       "10"
      ]
     },
     "execution_count": 7,
     "metadata": {},
     "output_type": "execute_result"
    }
   ],
   "source": [
    "bold_text = soup.find_all('b')\n",
    "num_bold_text = len(bold_text)\n",
    "num_bold_text"
   ]
  },
  {
   "cell_type": "code",
   "execution_count": 8,
   "id": "a7ae083b",
   "metadata": {},
   "outputs": [
    {
     "name": "stdout",
     "output_type": "stream",
     "text": [
      "29\n",
      "26\n",
      "69\n",
      "30\n",
      "165\n"
     ]
    }
   ],
   "source": [
    "#How many times is the word \"the\" used in the average Wikipedia article?\n",
    "#Using 5 RANDOM articles \n",
    "\n",
    "articles = ['https://en.wikipedia.org/wiki/Timothy_L._Tyler', 'https://en.wikipedia.org/wiki/Life_Is_Show_Time', 'https://en.wikipedia.org/wiki/Luxembourg_(Belgium)', 'https://en.wikipedia.org/wiki/Tony_Brown_(rugby_league)', 'https://en.wikipedia.org/wiki/The_Brothers_Bloom']\n",
    "\n",
    "url_1 = articles[0]\n",
    "url_2 = articles[1]\n",
    "url_3 = articles[2]\n",
    "url_4 = articles[3]\n",
    "url_5 = articles[4]\n",
    "\n",
    "response_1 = requests.get(url_1)\n",
    "response_2 = requests.get(url_2)\n",
    "response_3 = requests.get(url_3)\n",
    "response_4 = requests.get(url_4)\n",
    "response_5 = requests.get(url_5)\n",
    "\n",
    "soup_1 = BeautifulSoup(response_1.text, \"html.parser\")\n",
    "soup_2 = BeautifulSoup(response_2.text, \"html.parser\")\n",
    "soup_3 = BeautifulSoup(response_3.text, \"html.parser\")\n",
    "soup_4 = BeautifulSoup(response_4.text, \"html.parser\")\n",
    "soup_5 = BeautifulSoup(response_5.text, \"html.parser\")\n",
    "\n",
    "\n",
    "#FIND all text within the HTML content \n",
    "text_1 = soup_1.get_text()\n",
    "\n",
    "#Split the text into words and count occurances of the \n",
    "word = 'the'\n",
    "count_1 = text_1.lower().split().count(word.lower())\n",
    "print(count_1)\n",
    "\n",
    "#REPEAT \n",
    "text_2 = soup_2.get_text()\n",
    "count_2 = text_2.lower().split().count(word.lower())\n",
    "print(count_2)\n",
    "\n",
    "text_3 = soup_3.get_text()\n",
    "count_3 = text_3.lower().split().count(word.lower())\n",
    "print(count_3)\n",
    "\n",
    "text_4 = soup_4.get_text()\n",
    "count_4 = text_4.lower().split().count(word.lower())\n",
    "print(count_4) \n",
    "\n",
    "text_5 = soup_5.get_text()\n",
    "count_5 = text_5.lower().split().count(word.lower())\n",
    "print(count_5)\n",
    "\n",
    "#FIND FINAL ANSWER \n",
    "numerator = (count_1 + count_2 + count_3 + count_4 + count_5) \n",
    "denominator = len(articles) \n",
    "average = (numerator/denominator)\n",
    "\n"
   ]
  },
  {
   "cell_type": "code",
   "execution_count": 9,
   "id": "8d8ee937",
   "metadata": {},
   "outputs": [
    {
     "name": "stdout",
     "output_type": "stream",
     "text": [
      "The word 'the' is used, on average, about 63.8 times per article\n"
     ]
    }
   ],
   "source": [
    "print(\"The word 'the' is used, on average, about\", str(average), \"times per article\")"
   ]
  },
  {
   "cell_type": "code",
   "execution_count": 12,
   "id": "a75a7391",
   "metadata": {},
   "outputs": [
    {
     "name": "stdout",
     "output_type": "stream",
     "text": [
      "102\n",
      "86\n",
      "34\n",
      "16\n",
      "49\n"
     ]
    }
   ],
   "source": [
    "#What about in comparison to the word \"and\"\n",
    "url_6 = 'https://en.wikipedia.org/wiki/Phoumi_Vongvichit'\n",
    "url_7 = 'https://en.wikipedia.org/wiki/Domestic_liability_dollarization'\n",
    "url_8 = 'https://en.wikipedia.org/wiki/Tobias_Simon'\n",
    "url_9 = 'https://en.wikipedia.org/wiki/Sugimotoch%C5%8D_Station'\n",
    "url_10 = 'https://en.wikipedia.org/wiki/Solvathellam_Unmai_(TV_series)'\n",
    "\n",
    "response_6 = requests.get(url_6)\n",
    "response_7 = requests.get(url_7)\n",
    "response_8 = requests.get(url_8)\n",
    "response_9 = requests.get(url_9)\n",
    "response_10 = requests.get(url_10)\n",
    "\n",
    "soup_6 = BeautifulSoup(response_6.text, \"html.parser\")\n",
    "soup_7 = BeautifulSoup(response_7.text, \"html.parser\")\n",
    "soup_8 = BeautifulSoup(response_8.text, \"html.parser\")\n",
    "soup_9 = BeautifulSoup(response_9.text, \"html.parser\")\n",
    "soup_10 = BeautifulSoup(response_10.text, \"html.parser\")\n",
    "\n",
    "\n",
    "#FIND all text within the HTML content \n",
    "text_6 = soup_6.get_text()\n",
    "\n",
    "#Split the text into words and count occurances of the \n",
    "word = 'the'\n",
    "count_6 = text_6.lower().split().count(word.lower())\n",
    "print(count_6)\n",
    "\n",
    "#REPEAT \n",
    "text_7 = soup_7.get_text()\n",
    "count_7 = text_7.lower().split().count(word.lower())\n",
    "print(count_7)\n",
    "\n",
    "text_8 = soup_8.get_text()\n",
    "count_8 = text_8.lower().split().count(word.lower())\n",
    "print(count_8)\n",
    "\n",
    "text_9 = soup_9.get_text()\n",
    "count_9 = text_9.lower().split().count(word.lower())\n",
    "print(count_9) \n",
    "\n",
    "text_10 = soup_10.get_text()\n",
    "count_10 = text_10.lower().split().count(word.lower())\n",
    "print(count_10)\n",
    "\n",
    "#FIND FINAL ANSWER \n",
    "numerator_1 = (count_6 + count_7 + count_8 + count_9 + count_10) \n",
    "denominator_1 = 5\n",
    "average_1 = (numerator/denominator)\n"
   ]
  },
  {
   "cell_type": "code",
   "execution_count": 13,
   "id": "f9a03085",
   "metadata": {},
   "outputs": [
    {
     "name": "stdout",
     "output_type": "stream",
     "text": [
      "57.4\n"
     ]
    }
   ],
   "source": [
    "print(average_1)"
   ]
  },
  {
   "cell_type": "code",
   "execution_count": null,
   "id": "91f4cda5",
   "metadata": {},
   "outputs": [],
   "source": [
    "........................................................................................................................................"
   ]
  }
 ],
 "metadata": {
  "kernelspec": {
   "display_name": "Python 3 (ipykernel)",
   "language": "python",
   "name": "python3"
  },
  "language_info": {
   "codemirror_mode": {
    "name": "ipython",
    "version": 3
   },
   "file_extension": ".py",
   "mimetype": "text/x-python",
   "name": "python",
   "nbconvert_exporter": "python",
   "pygments_lexer": "ipython3",
   "version": "3.9.13"
  }
 },
 "nbformat": 4,
 "nbformat_minor": 5
}
