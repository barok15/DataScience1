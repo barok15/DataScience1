{
 "cells": [
  {
   "cell_type": "code",
   "execution_count": 79,
   "id": "7e987f1c",
   "metadata": {},
   "outputs": [],
   "source": [
    "data = {\n",
    "    1: ['A', 'C', 'E'],\n",
    "    2: ['B', 'D', 'F']\n",
    "}"
   ]
  },
  {
   "cell_type": "code",
   "execution_count": 80,
   "id": "bc885cbb",
   "metadata": {},
   "outputs": [
    {
     "name": "stdout",
     "output_type": "stream",
     "text": [
      "A\n",
      "B\n",
      "C\n",
      "D\n",
      "E\n",
      "F\n"
     ]
    }
   ],
   "source": [
    "for x in range(3): \n",
    "    print(data[1][x])\n",
    "    print(data[2][x])"
   ]
  },
  {
   "cell_type": "code",
   "execution_count": 81,
   "id": "4c84bd73",
   "metadata": {},
   "outputs": [],
   "source": [
    "dic1 = {\n",
    "    'Name': ['Edward Teach', 'Anne Bonny', 'John Rackham', 'Cheung Po Tsai', 'Grace O Malley', 'Mary Read', 'Sayyida al Hurra', 'Zheng Yi Sao', 'Francis Drake', 'Jean Lafitte'],\n",
    "    'Years Active': ['1716-1718', '1718-1720', '1718-1720', '1798-1810', '1564-1595', '1708-1721', '1515-1545', '1801-1810', '1563-1596', '1810-1823'],\n",
    "    'Sailed': ['Caribbean', 'Caribbean', 'Caribbean', 'South China Sea', 'British Isles', 'Caribbean', 'Mediterranean', 'South China Sea', 'Caribbean', 'Gulf of Mexico'],\n",
    "    'Alias': ['Blackbeard', 'Ann Fulford', 'Calico Jack', 'The Kid', 'Queen of Ireland', 'Mark', 'Hakimat Titwan', 'Ching Shih', 'Sir Francis Drake', 'Terror of the Gulf']\n",
    "}"
   ]
  },
  {
   "cell_type": "code",
   "execution_count": 82,
   "id": "41d3272e",
   "metadata": {},
   "outputs": [],
   "source": [
    "dic2 = {\n",
    "    'Edward Teach': [1716-1718, 'Caribbean', 'Blackbeard'],\n",
    "    'Anne Bonny': [1718-1720, 'Carribbean', 'Ann Fulford'],\n",
    "    'John Rackham': [1718-1720, 'Caribbean', 'Calico Jack'],\n",
    "    'Cheung Po Tsai': [1798-1810, 'South China Sea', 'The Kid'],\n",
    "    'Grace O Malley': [1564-1595, 'British Isles', 'Queen of Ireland'],\n",
    "    'Mary Read': [1708-1721, 'Caribbean', 'Mark'],\n",
    "    'Sayyida al Hurra': [1515-1545, 'Mediterranean', 'Hakimat Titwan'],\n",
    "    'Zheng Yi Sao': [1801-1810, 'South China Sea', 'Ching Shih'],\n",
    "    'Francis Drake': [1563-1596, 'Caribbean', 'Sir Francis Drake'], \n",
    "    'Jean Lafitte': [1810-1823, 'Gulf of Mexico', 'Terror of the Gulf']\n",
    "}"
   ]
  },
  {
   "cell_type": "code",
   "execution_count": 92,
   "id": "09651c6a",
   "metadata": {},
   "outputs": [
    {
     "name": "stdout",
     "output_type": "stream",
     "text": [
      "4\n"
     ]
    }
   ],
   "source": [
    "#CHALLANGE 1 \n",
    "count = 0 \n",
    "for x in dic1['Years Active']: \n",
    "    if x[0:2:1] == '17' and x[5:7:1] == '17':\n",
    "        count += 1 \n",
    "\n",
    "print(count)"
   ]
  },
  {
   "cell_type": "code",
   "execution_count": 87,
   "id": "0054de5c",
   "metadata": {},
   "outputs": [
    {
     "name": "stdout",
     "output_type": "stream",
     "text": [
      "Francis Drake\n"
     ]
    }
   ],
   "source": [
    "#CHALLANGE 2 \n",
    "amount = 0 \n",
    "for x in dic2: \n",
    "    if abs(dic2[x][0]) > amount:\n",
    "        greatest = x\n",
    "    amount = abs(dic2[x][0])\n",
    "\n",
    "print(greatest)"
   ]
  },
  {
   "cell_type": "code",
   "execution_count": 94,
   "id": "797cafb2",
   "metadata": {},
   "outputs": [
    {
     "name": "stdout",
     "output_type": "stream",
     "text": [
      "14.7\n"
     ]
    }
   ],
   "source": [
    "#CHALLANGE 3 \n",
    "years_total = 0 \n",
    "pirates_total = 0 \n",
    "avg = 0 \n",
    "for x in dic2: \n",
    "    years_total += abs(dic2[x][0])\n",
    "    pirates_total += 1\n",
    "\n",
    "avg = years_total / pirates_total \n",
    "print(avg)"
   ]
  },
  {
   "cell_type": "code",
   "execution_count": 97,
   "id": "cda2a50f",
   "metadata": {},
   "outputs": [],
   "source": [
    "#MERGING DATA SETS \n",
    "\n",
    "dic_f = {\n",
    "    'Name': ['Edward Teach', 'Anne Bonny', 'John Rockham', 'Cheung Po Tsai', 'Grace O Malley', 'Mary Read', 'Sayyida al Hurra', 'Zheng Yi Sao', 'Francis Drake', 'Jean Lafitte'], \n",
    "    'Years Active': ['1716-1718', '1718-1720', '1718-1720', '1798-1810', '1564-1595', '1708-1721', '1515-1545', '1801-1810', '1563-1596', '1810-1823'],\n",
    "    'Sex': ['M', 'F', 'M', 'M', 'F', 'F', 'F', 'F', 'M', 'M'],\n",
    "    'Sailed': ['Caribbean', 'Caribbean', 'Caribbean', 'South China Sea', 'British Isles', 'Caribbean', 'Mediterranean', 'South China Sea', 'Caribbean', 'Gulf of Mexico'], \n",
    "    'Age at Death': [40, 24, 37, 39, 73, 36, 75, 69, 56, 46],\n",
    "    'Height': [6.4, 5.6, 5.6, 5.3, 5.0, 5.1, 0, 5.3, 5.5, 6.2],\n",
    "    'Skull and Crossbones': [False, True, True, False, False, True, False, False, False, False],\n",
    "    'Alias': ['Blackbeard', 'Ann Fulford', 'Calico Jack', 'The Kid', 'Queen of Ireland', 'Mark', 'Hakimat Titwan', 'Ching Shih', 'Sir Francis Drake', 'Terror of the Gulf']\n",
    "}"
   ]
  },
  {
   "cell_type": "code",
   "execution_count": null,
   "id": "38e8f9f4",
   "metadata": {},
   "outputs": [],
   "source": []
  }
 ],
 "metadata": {
  "kernelspec": {
   "display_name": "Python 3 (ipykernel)",
   "language": "python",
   "name": "python3"
  },
  "language_info": {
   "codemirror_mode": {
    "name": "ipython",
    "version": 3
   },
   "file_extension": ".py",
   "mimetype": "text/x-python",
   "name": "python",
   "nbconvert_exporter": "python",
   "pygments_lexer": "ipython3",
   "version": "3.9.13"
  }
 },
 "nbformat": 4,
 "nbformat_minor": 5
}
